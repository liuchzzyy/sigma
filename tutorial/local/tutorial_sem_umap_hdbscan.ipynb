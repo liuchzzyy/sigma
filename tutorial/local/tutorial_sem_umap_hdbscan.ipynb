{
 "cells": [
  {
   "cell_type": "markdown",
   "metadata": {
    "id": "PTooJbLTkDWl"
   },
   "source": [
    "# Import libraries"
   ]
  },
  {
   "cell_type": "code",
   "execution_count": null,
   "metadata": {
    "colab": {
     "base_uri": "https://localhost:8080/",
     "height": 71
    },
    "id": "4362PEEZfpQB",
    "outputId": "3225a4d8-7859-46d9-e634-2d86d52c23e0",
    "scrolled": true,
    "tags": []
   },
   "outputs": [],
   "source": [
    "import sigma\n",
    "from sigma.utils import normalisation as norm \n",
    "from sigma.utils import visualisation as visual\n",
    "from sigma.utils.load import SEMDataset\n",
    "from sigma.src.utils import same_seeds\n",
    "from sigma.src.dim_reduction import Experiment\n",
    "from sigma.models.autoencoder import AutoEncoder\n",
    "from sigma.src.segmentation import PixelSegmenter\n",
    "from sigma.gui import gui"
   ]
  },
  {
   "cell_type": "markdown",
   "metadata": {
    "id": "olPzlO4gsAuG"
   },
   "source": [
    "# Load files\n",
    "\n",
    "Load the *.bcf* file and create an object of `SEMDataset` (which uses hyperspy as backend.)"
   ]
  },
  {
   "cell_type": "code",
   "execution_count": null,
   "metadata": {
    "id": "2Wd0omy47rJb"
   },
   "outputs": [],
   "source": [
    "file_path = 'test.bcf'\n",
    "sem = SEMDataset(file_path)"
   ]
  },
  {
   "cell_type": "markdown",
   "metadata": {
    "id": "vpqYK5B6m-3k"
   },
   "source": [
    "# 1. Dataset preprocessing"
   ]
  },
  {
   "cell_type": "markdown",
   "metadata": {
    "tags": []
   },
   "source": [
    "## 1.1 View the dataset\n",
    "\n",
    "**Use `gui.view_dataset(sem)`** to check the BSE image, the sum spectrum, and the elemental maps.<br>\n",
    "\n",
    "The default *feature list* (or elemental peaks) is extracted from the metadata of the .bcf file. The elemental peaks can be manually modified in `Feature list` and click `set` to set the new feature list. The elemental intensity maps will be generated when clicking the `set` button. In this way, the raw hyperspectral imaging (HSI) dataset has now become elemental maps with dimension of 279 x 514 x 9 (for the test file).\n",
    "\n",
    "**How can users determine the elements for analysis?**<br>\n",
    "Users can use the interactive widget in the tab \"EDX sum spectrum\" to check the energy peaks and determine the `Feature list` for further amalyses. \n"
   ]
  },
  {
   "cell_type": "code",
   "execution_count": null,
   "metadata": {
    "id": "JRccG0O2plY_"
   },
   "outputs": [],
   "source": [
    "gui.view_dataset(dataset=sem)"
   ]
  },
  {
   "cell_type": "markdown",
   "metadata": {},
   "source": [
    "In addition to the GUI, we can view the dataset directly with the `sem` object:\n",
    "\n",
    "1. `sem.nav_img`: access the back-scattered electron (as a hyperspy `Signal2D` object).<br>\n",
    "2. `sem.spectra`: access the edx dataset (as a hyperspy `EDSSEMSpectrum` object).<br>\n",
    "3. `visual.plot_sum_spectrum(sem.spectra)`: view the sum spectrum (or use hyperspy built-in function `sem.spectra.sum().plot(xray_lines=True)`.<br>\n",
    "4. `sem.feature_list`: view the default chosen elemental peaks in the edx dataset.<br>\n",
    "5. `sem.set_feature_list`: set new elemental peaks. "
   ]
  },
  {
   "cell_type": "markdown",
   "metadata": {
    "id": "zjNVT8T9ttZx"
   },
   "source": [
    "## 1.2 Process the dataset"
   ]
  },
  {
   "cell_type": "markdown",
   "metadata": {},
   "source": [
    "### Several (optional) functions to process the dataset:\n",
    "1. `sem.rebin_signal(size=(2,2))`: rebin the edx signal with the size of 2x2. After rebinning the dataset, we can access the binned edx or bse data using `sem.edx_bin` or `sem.bse_bin`. \n",
    "> Note: The size of binning may be changed depending on the number of pixels and signal-to-noise ratio of the EDS spectra. If the input HSI-EDS data contains too many pixels, that may crush the RAM. As for the signal-to-noise, the counts per pixel of the data is better to be higher than 100. In the case of the test dataset, the average counts per pixel is 29.94 before binning and will be 119.76 after binning.\n",
    "\n",
    "2. `sem.peak_intensity_normalisation()`: normalise the x-ray intensity along energy axis.\n",
    "\n",
    "3. `sem.remove_fist_peak(end=0.1)`: remove the first x-ray peak (most likely noise) by calling the function with the argument `end`. For example, if one wants to remove the intensity values from 0-0.1 keV, set `end=0.1`. This is an optional step.\n",
    "\n",
    "4. `visual.plot_intensity_maps`: Plot the elemental intensity maps."
   ]
  },
  {
   "cell_type": "code",
   "execution_count": null,
   "metadata": {
    "id": "_kwTAEa5rz7r"
   },
   "outputs": [],
   "source": [
    "# Rebin both edx and bse dataset\n",
    "sem.rebin_signal(size=(2,2))\n",
    "\n",
    "# Remove the first peak until the energy of 0.1 keV\n",
    "sem.remove_fist_peak(end=0.1) \n",
    "\n",
    "# normalisation to make the spectrum of each pixel summing to 1.\n",
    "sem.peak_intensity_normalisation()"
   ]
  },
  {
   "cell_type": "code",
   "execution_count": null,
   "metadata": {
    "id": "NARhLv5ASNry"
   },
   "outputs": [],
   "source": [
    "# View the dataset (bse, edx etc.) again to check differences. \n",
    "# Note that a new tab (including the binned elemental maps) will show up only if the user runs the sem.rebin_signal.\n",
    "\n",
    "gui.view_dataset(dataset=sem)"
   ]
  },
  {
   "cell_type": "markdown",
   "metadata": {},
   "source": [
    "The pre-processing steps yield a HSI datacube with the dimension of 139 x 257 x 9 (due to the 2x2 binning)."
   ]
  },
  {
   "cell_type": "markdown",
   "metadata": {
    "id": "59GFs_0SBSkW"
   },
   "source": [
    "## 1.3 Normalisation\n",
    "\n",
    "Before dimensionality reduction, we normalise the elemental maps use `sem.normalisation()`, where we can pass a list containing (optional) sequential normalisation steps.\n",
    "\n",
    "> Note that the pre-processing steps are all optional, but if the user opts for the softmax option, z-score  step should be applied beforehand, i.e., the softmax normalization procedure requires input data that is z-score normalized. The purpose of the combinatorial normalization step (z-score + softmax) is to provide the autoencoder with an input that includes global information from all pixels and ‘intentional bias’ within a single pixel. \n",
    "\n",
    ">`neighbour_averaging` is equivilant to apply a 3x3 mean filter to the HSI-EDS data and is an optional step. `zscore` rescales the intensity values within each elemental map such that the mean of all of the values is 0 and the standard deviation is 1 for each map. For example, after z-score normalisation, the Fe Ka map should contain pixels with intensity values that yield `mean=0` and `std=1`. `softmax` is applied within each individual pixel containing z-scores of different elemental peaks. For example, if 5 elemental maps are specified, the 5 corresponding z-scores for each individual pixel will be used to calculate the outputs of softmax."
   ]
  },
  {
   "cell_type": "code",
   "execution_count": null,
   "metadata": {
    "id": "vgCJ-sfVsNbb"
   },
   "outputs": [],
   "source": [
    "# Normalise the dataset using the (optional) sequential three methods.\n",
    "sem.normalisation([norm.neighbour_averaging, \n",
    "                   norm.zscore,\n",
    "                   norm.softmax])"
   ]
  },
  {
   "cell_type": "markdown",
   "metadata": {},
   "source": [
    "Use `gui.view_pixel_distributions` to view the intensity distributions after each sequential normalisation process."
   ]
  },
  {
   "cell_type": "code",
   "execution_count": null,
   "metadata": {
    "id": "oXRo2LvTqxbK"
   },
   "outputs": [],
   "source": [
    "gui.view_pixel_distributions(dataset=sem, \n",
    "                             norm_list=[norm.neighbour_averaging,\n",
    "                                        norm.zscore,\n",
    "                                        norm.softmax], \n",
    "                             cmap='inferno')"
   ]
  },
  {
   "cell_type": "markdown",
   "metadata": {
    "id": "6PaFMEOprt3B"
   },
   "source": [
    "## 1.4 (Optional) Assign RGB to elemental peaks"
   ]
  },
  {
   "cell_type": "code",
   "execution_count": null,
   "metadata": {
    "id": "MZSQgdJsZTgV"
   },
   "outputs": [],
   "source": [
    "gui.view_rgb(dataset=sem)"
   ]
  },
  {
   "cell_type": "markdown",
   "metadata": {},
   "source": [
    "## 1.5 Check elemental distribution after normalisation"
   ]
  },
  {
   "cell_type": "code",
   "execution_count": null,
   "metadata": {
    "id": "Uns525mlsjfm"
   },
   "outputs": [],
   "source": [
    "print('After normalisation:')\n",
    "gui.view_intensity_maps(spectra=sem.normalised_elemental_data, element_list=sem.feature_list)"
   ]
  },
  {
   "cell_type": "markdown",
   "metadata": {
    "id": "f2GcAoSlnGuN"
   },
   "source": [
    "# 2. Dimensionality reduction"
   ]
  },
  {
   "cell_type": "markdown",
   "metadata": {},
   "source": [
    "## 2.2 Method 2: UMAP"
   ]
  },
  {
   "cell_type": "code",
   "execution_count": null,
   "metadata": {},
   "outputs": [],
   "source": [
    "from umap import UMAP\n",
    "\n",
    "# Parameter tuning can be found https://umap-learn.readthedocs.io/en/latest/parameters.html\n",
    "data = sem.normalised_elemental_data.reshape(-1,len(sem.feature_list))\n",
    "umap = UMAP(\n",
    "        n_neighbors=10,\n",
    "        min_dist=0.1,\n",
    "        n_components=2,\n",
    "        metric='euclidean'\n",
    "    )\n",
    "latent = umap.fit_transform(data)"
   ]
  },
  {
   "cell_type": "markdown",
   "metadata": {
    "id": "Pd5l795DnL8r"
   },
   "source": [
    "# 3. Pixel segmentation: "
   ]
  },
  {
   "cell_type": "markdown",
   "metadata": {},
   "source": [
    "## 3.2 Method 2: HDBSCAN clustering"
   ]
  },
  {
   "cell_type": "code",
   "execution_count": null,
   "metadata": {},
   "outputs": [],
   "source": [
    "# hyperparameter tuning can be found https://scikit-learn.org/stable/auto_examples/cluster/plot_hdbscan.html#hyperparameter-robustness\n",
    "ps = PixelSegmenter(latent=latent, \n",
    "                    dataset=sem,\n",
    "                    method=\"HDBSCAN\",\n",
    "                    method_args=dict(min_cluster_size=50, min_samples=35,\n",
    "                                     max_cluster_size=int(len(latent)/10),\n",
    "                                     cluster_selection_epsilon=5e-2) )\n"
   ]
  },
  {
   "cell_type": "markdown",
   "metadata": {},
   "source": [
    "## 3.3 Visualisation"
   ]
  },
  {
   "cell_type": "markdown",
   "metadata": {
    "id": "TyVkwD-kwFIF"
   },
   "source": [
    "### 3.3.1 Checking latent space"
   ]
  },
  {
   "cell_type": "markdown",
   "metadata": {},
   "source": [
    "**Parameters for `gui.view_latent_space`**<br>\n",
    "> `ps`: *PixelSegmenter*. The object of PixelSegmetor which is just created.<br>\n",
    "\n",
    "> `color`: *bool*. If `True`, the the latent space will be colour-coded based on their cluster labels.<br>"
   ]
  },
  {
   "cell_type": "code",
   "execution_count": null,
   "metadata": {
    "id": "QjrxxOLFrVfu"
   },
   "outputs": [],
   "source": [
    "# Plot latent sapce (2-dimensional) with corresponding Gaussian models\n",
    "gui.view_latent_space(ps=ps, color=True) "
   ]
  },
  {
   "cell_type": "markdown",
   "metadata": {},
   "source": [
    "**Parameters for `gui.check_latent_space`**<br>\n",
    "> `ps`: *PixelSegmenter*. The object of PixelSegmetor which is just created.<br>\n",
    "\n",
    "> `ratio_to_be_shown`: *float*. The value must be between 0-1. For example, if 0.5, the latent space will only show 50% data points.<br>\n",
    "\n",
    "> `show_map`: *bool*. If `True`, the corresponding locations of the data points will be overlaid on the BSE image.<br>\n"
   ]
  },
  {
   "cell_type": "code",
   "execution_count": null,
   "metadata": {
    "id": "mKJ_bEDorXpp"
   },
   "outputs": [],
   "source": [
    "# visualise the latent space\n",
    "gui.check_latent_space(ps=ps,ratio_to_be_shown=1.0, show_map=True)"
   ]
  },
  {
   "cell_type": "markdown",
   "metadata": {},
   "source": [
    "**Parameters for `gui.check_latent_space`**<br>\n",
    "> `ps`: *PixelSegmenter*. The object of PixelSegmetor which is just created.<br>\n",
    "\n",
    "> `bins`: *int*. Number of bins for the given interval of the latent space.<br>"
   ]
  },
  {
   "cell_type": "code",
   "execution_count": null,
   "metadata": {
    "id": "47TKUHLorZyV"
   },
   "outputs": [],
   "source": [
    "# check the density of latent space\n",
    "gui.plot_latent_density(ps=ps, bins=50)"
   ]
  },
  {
   "cell_type": "markdown",
   "metadata": {
    "id": "_uFv-qDOLFye"
   },
   "source": [
    "### 3.3.2 Checking each clusters"
   ]
  },
  {
   "cell_type": "code",
   "execution_count": null,
   "metadata": {
    "id": "r0fAz4OErbxj",
    "scrolled": true
   },
   "outputs": [],
   "source": [
    "# ps.set_feature_list(['Al_Ka', 'C_Ka', 'Ca_Ka', 'Fe_Ka', 'K_Ka', 'O_Ka', 'Si_Ka', 'Ti_Ka', 'Zn_La'])\n",
    "gui.show_cluster_distribution(ps=ps)"
   ]
  },
  {
   "cell_type": "markdown",
   "metadata": {
    "id": "s7hCyeiKLLii"
   },
   "source": [
    "### 3.3.3 Checking cluster map"
   ]
  },
  {
   "cell_type": "code",
   "execution_count": null,
   "metadata": {
    "id": "iH9196CXre1j"
   },
   "outputs": [],
   "source": [
    "# Plot phase map using the corresponding GM model\n",
    "gui.view_phase_map(ps=ps, alpha_cluster_map=0.5)"
   ]
  },
  {
   "cell_type": "markdown",
   "metadata": {},
   "source": [
    "**Parameters for `gui.view_clusters_sum_spectra`**<br>\n",
    "\n",
    "> `ps`: *PixelSegmenter*. The object of PixelSegmetor which is just created.<br>\n",
    "\n",
    "> `normalisation`: *bool*. If `True`, the sum spectra will be normalised.<br>\n",
    "\n",
    "> `spectra_range`: *tuple*. Set the limits of the energy axes (in *KeV*).<br>"
   ]
  },
  {
   "cell_type": "code",
   "execution_count": null,
   "metadata": {
    "id": "5yizWZ7rrgvx",
    "scrolled": true
   },
   "outputs": [],
   "source": [
    "gui.view_clusters_sum_spectra(ps=ps, normalisation=True, spectra_range=(0,8))"
   ]
  },
  {
   "cell_type": "markdown",
   "metadata": {
    "id": "vDqkqAHpLaN0"
   },
   "source": [
    "# 4. Unmixing cluster spectrums using Non-negative Matrix Fatorization (NMF)"
   ]
  },
  {
   "cell_type": "markdown",
   "metadata": {},
   "source": [
    "**Parameters for `gui.get_unmixed_edx_profile`**<br>\n",
    "> `clusters_to_be_calculated`: *str* or *List*. If `'All'`, all cluster-spectra will be included in the data matrix for NMF. If it is a list of integers (e.g. [0,1,2,3]), only #0, #1, #2, and #3 cluster-spectra will be used as the data matrix for NMF.<br>\n",
    "\n",
    "> `normalised`: *bool*. If `True`, the sum spectra will be normalised before NMF unmixing.<br>\n",
    "\n",
    "> `method`: *str*. Model to be used.<br>\n",
    "\n",
    "> `method_args`: *Dict*. Keyword arugments for the NMF method (or others). [See more detail here](https://scikit-learn.org/stable/modules/generated/sklearn.decomposition.NMF.html).<br>"
   ]
  },
  {
   "cell_type": "code",
   "execution_count": null,
   "metadata": {
    "id": "DWeg9UomrmzX"
   },
   "outputs": [],
   "source": [
    "weights, components = ps.get_unmixed_spectra_profile(clusters_to_be_calculated='All', \n",
    "                                                 n_components=7,\n",
    "                                                 normalised=False, \n",
    "                                                 method='NMF', \n",
    "                                                 method_args={'init':'nndsvd'})"
   ]
  },
  {
   "cell_type": "code",
   "execution_count": null,
   "metadata": {
    "id": "me57SkqNrpSg"
   },
   "outputs": [],
   "source": [
    "gui.show_unmixed_weights_and_compoments(ps=ps, weights=weights, components=components)"
   ]
  },
  {
   "cell_type": "markdown",
   "metadata": {},
   "source": [
    "## Check abundance map for components (using RGB maps)"
   ]
  },
  {
   "cell_type": "code",
   "execution_count": null,
   "metadata": {},
   "outputs": [],
   "source": [
    "gui.show_abundance_map(ps=ps, weights=weights, components=components)"
   ]
  },
  {
   "cell_type": "markdown",
   "metadata": {
    "id": "hSIhNd4oLTHr",
    "tags": []
   },
   "source": [
    "## Statistics infro from clusters"
   ]
  },
  {
   "cell_type": "code",
   "execution_count": null,
   "metadata": {
    "id": "cermaBpurkg7"
   },
   "outputs": [],
   "source": [
    "gui.show_cluster_stats(ps=ps)"
   ]
  },
  {
   "cell_type": "code",
   "execution_count": null,
   "metadata": {},
   "outputs": [],
   "source": []
  }
 ],
 "metadata": {
  "accelerator": "GPU",
  "colab": {
   "collapsed_sections": [],
   "machine_shape": "hm",
   "name": "Tutorial_local",
   "provenance": []
  },
  "kernelspec": {
   "display_name": "Python 3 (ipykernel)",
   "language": "python",
   "name": "python3"
  },
  "language_info": {
   "codemirror_mode": {
    "name": "ipython",
    "version": 3
   },
   "file_extension": ".py",
   "mimetype": "text/x-python",
   "name": "python",
   "nbconvert_exporter": "python",
   "pygments_lexer": "ipython3",
   "version": "3.10.13"
  },
  "vscode": {
   "interpreter": {
    "hash": "1c7fc4717a80fffd4f4233a5e19240566587578117070970e07217f9998bf2df"
   }
  }
 },
 "nbformat": 4,
 "nbformat_minor": 4
}
